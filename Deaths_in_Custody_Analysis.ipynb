{
  "nbformat": 4,
  "nbformat_minor": 0,
  "metadata": {
    "colab": {
      "name": "Deaths in Custody Analysis.ipynb",
      "provenance": [],
      "collapsed_sections": []
    },
    "kernelspec": {
      "name": "python3",
      "display_name": "Python 3"
    }
  },
  "cells": [
    {
      "cell_type": "markdown",
      "metadata": {
        "id": "zfDeL-l9GOIa"
      },
      "source": [
        "* What are the objectives of the project?\r\n",
        "\r\n",
        "The objectives of this project are to analyze the relationship between independent and dependent vairables. In the selected dataset, we chose 3 independent\r\n",
        "variables which are Gender, Age & Race and two dependent variables which are Manner of Deaths & Custody Status. The breakdowns are in the following:\r\n",
        "\r\n",
        "1. Gender and manner of deaths(Suicide) as an output of \"Suicide Death Rate by Gender\". \r\n",
        "2. Age and manner of deaths(Natural) as an output of \"Natural Death Rate by Age\". \r\n",
        "3. Race and manner of deaths(Accidental) as an output of \"Accidental Death rate by Race\".  \r\n",
        "4. Gender and custody status(Sentenced) as an output of \"Sentenced Custody Status by Gender\".\r\n",
        "5. Age and custody status(Process of Arrest) as an output of \"Process of Arrest Custody Status by Age\".\r\n",
        "6. Race and custody status(Booked - Awaiting Trial) as an output of \"Booked - Awaiting Trial Custody Status by Race\"."
      ]
    },
    {
      "cell_type": "code",
      "metadata": {
        "colab": {
          "base_uri": "https://localhost:8080/"
        },
        "id": "TSlWR3DHMnVJ",
        "outputId": "7b48f917-e04d-4e1e-81a1-fca509a10b10"
      },
      "source": [
        "# Installing pandasql so sql can be integrated in python\r\n",
        "!pip install pandasql"
      ],
      "execution_count": 1,
      "outputs": [
        {
          "output_type": "stream",
          "text": [
            "Collecting pandasql\n",
            "  Downloading https://files.pythonhosted.org/packages/6b/c4/ee4096ffa2eeeca0c749b26f0371bd26aa5c8b611c43de99a4f86d3de0a7/pandasql-0.7.3.tar.gz\n",
            "Requirement already satisfied: numpy in /usr/local/lib/python3.6/dist-packages (from pandasql) (1.19.4)\n",
            "Requirement already satisfied: pandas in /usr/local/lib/python3.6/dist-packages (from pandasql) (1.1.5)\n",
            "Requirement already satisfied: sqlalchemy in /usr/local/lib/python3.6/dist-packages (from pandasql) (1.3.20)\n",
            "Requirement already satisfied: python-dateutil>=2.7.3 in /usr/local/lib/python3.6/dist-packages (from pandas->pandasql) (2.8.1)\n",
            "Requirement already satisfied: pytz>=2017.2 in /usr/local/lib/python3.6/dist-packages (from pandas->pandasql) (2018.9)\n",
            "Requirement already satisfied: six>=1.5 in /usr/local/lib/python3.6/dist-packages (from python-dateutil>=2.7.3->pandas->pandasql) (1.15.0)\n",
            "Building wheels for collected packages: pandasql\n",
            "  Building wheel for pandasql (setup.py) ... \u001b[?25l\u001b[?25hdone\n",
            "  Created wheel for pandasql: filename=pandasql-0.7.3-cp36-none-any.whl size=26820 sha256=c9cb5c0b935ee4afcacafae4ea8938c4e6ca01177f83f9fe9e8f1c85b7cce822\n",
            "  Stored in directory: /root/.cache/pip/wheels/53/6c/18/b87a2e5fa8a82e9c026311de56210b8d1c01846e18a9607fc9\n",
            "Successfully built pandasql\n",
            "Installing collected packages: pandasql\n",
            "Successfully installed pandasql-0.7.3\n"
          ],
          "name": "stdout"
        }
      ]
    },
    {
      "cell_type": "code",
      "metadata": {
        "id": "MLz0ioiJy8S3"
      },
      "source": [
        "# All the dependencies libraries for data analysis & visulization\r\n",
        "import pandas as pd\r\n",
        "from google.colab import files \r\n",
        "import matplotlib.pyplot as plt\r\n",
        "from pandasql import sqldf\r\n",
        "import numpy as np"
      ],
      "execution_count": 2,
      "outputs": []
    },
    {
      "cell_type": "code",
      "metadata": {
        "colab": {
          "resources": {
            "http://localhost:8080/nbextensions/google.colab/files.js": {
              "data": "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",
              "ok": true,
              "headers": [
                [
                  "content-type",
                  "application/javascript"
                ]
              ],
              "status": 200,
              "status_text": ""
            }
          },
          "base_uri": "https://localhost:8080/",
          "height": 72
        },
        "id": "2maQ9Od1GlOC",
        "outputId": "574e6db1-6b3e-4798-8591-0578e2d6dd40"
      },
      "source": [
        "# Uploading the excel file to google colab\r\n",
        "uploaded = files.upload()"
      ],
      "execution_count": 3,
      "outputs": [
        {
          "output_type": "display_data",
          "data": {
            "text/html": [
              "\n",
              "     <input type=\"file\" id=\"files-8719c50c-1d42-44ed-8394-82ef6a617a7f\" name=\"files[]\" multiple disabled\n",
              "        style=\"border:none\" />\n",
              "     <output id=\"result-8719c50c-1d42-44ed-8394-82ef6a617a7f\">\n",
              "      Upload widget is only available when the cell has been executed in the\n",
              "      current browser session. Please rerun this cell to enable.\n",
              "      </output>\n",
              "      <script src=\"/nbextensions/google.colab/files.js\"></script> "
            ],
            "text/plain": [
              "<IPython.core.display.HTML object>"
            ]
          },
          "metadata": {
            "tags": []
          }
        },
        {
          "output_type": "stream",
          "text": [
            "Saving deaths-in-custody.csv to deaths-in-custody.csv\n"
          ],
          "name": "stdout"
        }
      ]
    },
    {
      "cell_type": "code",
      "metadata": {
        "colab": {
          "base_uri": "https://localhost:8080/",
          "height": 292
        },
        "id": "sinodDW_FVeg",
        "outputId": "648c3396-1c8f-4815-8948-b5bc333239fe"
      },
      "source": [
        "# Getting a snapshot of the dataset with pandas\n",
        "df = pd.read_csv('deaths-in-custody.csv')\n",
        "df.head()"
      ],
      "execution_count": 4,
      "outputs": [
        {
          "output_type": "execute_result",
          "data": {
            "text/html": [
              "<div>\n",
              "<style scoped>\n",
              "    .dataframe tbody tr th:only-of-type {\n",
              "        vertical-align: middle;\n",
              "    }\n",
              "\n",
              "    .dataframe tbody tr th {\n",
              "        vertical-align: top;\n",
              "    }\n",
              "\n",
              "    .dataframe thead th {\n",
              "        text-align: right;\n",
              "    }\n",
              "</style>\n",
              "<table border=\"1\" class=\"dataframe\">\n",
              "  <thead>\n",
              "    <tr style=\"text-align: right;\">\n",
              "      <th></th>\n",
              "      <th>record_key_number</th>\n",
              "      <th>reporting_agency</th>\n",
              "      <th>agency_number</th>\n",
              "      <th>agency_full_name</th>\n",
              "      <th>county</th>\n",
              "      <th>race</th>\n",
              "      <th>gender</th>\n",
              "      <th>age</th>\n",
              "      <th>custody_status</th>\n",
              "      <th>custody_offense</th>\n",
              "      <th>date_of_death_yyyy</th>\n",
              "      <th>date_of_death_mm</th>\n",
              "      <th>date_of_death_dd</th>\n",
              "      <th>custodial_responsibilty_at_time_of_death</th>\n",
              "      <th>location_where_cause_of_death_occurred</th>\n",
              "      <th>facility_of_death</th>\n",
              "      <th>manner_of_death</th>\n",
              "      <th>means_of_death</th>\n",
              "    </tr>\n",
              "  </thead>\n",
              "  <tbody>\n",
              "    <tr>\n",
              "      <th>0</th>\n",
              "      <td>2005001</td>\n",
              "      <td>State</td>\n",
              "      <td>27025C</td>\n",
              "      <td>Salinas Valley State Prison</td>\n",
              "      <td>Monterey</td>\n",
              "      <td>Other</td>\n",
              "      <td>Male</td>\n",
              "      <td>35</td>\n",
              "      <td>Sentenced</td>\n",
              "      <td>110</td>\n",
              "      <td>2005</td>\n",
              "      <td>1</td>\n",
              "      <td>3</td>\n",
              "      <td>CDC/CRC</td>\n",
              "      <td>Living</td>\n",
              "      <td>CDC/CRC</td>\n",
              "      <td>Suicide</td>\n",
              "      <td>Hanging,Strangulation</td>\n",
              "    </tr>\n",
              "    <tr>\n",
              "      <th>1</th>\n",
              "      <td>2005002</td>\n",
              "      <td>Police</td>\n",
              "      <td>390200</td>\n",
              "      <td>Lodi Police Department</td>\n",
              "      <td>San Joaquin</td>\n",
              "      <td>White</td>\n",
              "      <td>Male</td>\n",
              "      <td>67</td>\n",
              "      <td>Awaiting Booking</td>\n",
              "      <td>46</td>\n",
              "      <td>2005</td>\n",
              "      <td>1</td>\n",
              "      <td>5</td>\n",
              "      <td>City Jail</td>\n",
              "      <td>Living</td>\n",
              "      <td>City Jail</td>\n",
              "      <td>Natural</td>\n",
              "      <td>Not Applicable</td>\n",
              "    </tr>\n",
              "    <tr>\n",
              "      <th>2</th>\n",
              "      <td>2005003</td>\n",
              "      <td>State</td>\n",
              "      <td>48015C</td>\n",
              "      <td>California Medical Facility</td>\n",
              "      <td>Solano</td>\n",
              "      <td>White</td>\n",
              "      <td>Male</td>\n",
              "      <td>51</td>\n",
              "      <td>Sentenced</td>\n",
              "      <td>110</td>\n",
              "      <td>2005</td>\n",
              "      <td>1</td>\n",
              "      <td>6</td>\n",
              "      <td>CDC/CRC</td>\n",
              "      <td>Not Applicable</td>\n",
              "      <td>CDC/CRC</td>\n",
              "      <td>Natural</td>\n",
              "      <td>Not Applicable</td>\n",
              "    </tr>\n",
              "    <tr>\n",
              "      <th>3</th>\n",
              "      <td>2005004</td>\n",
              "      <td>State</td>\n",
              "      <td>15025C</td>\n",
              "      <td>Wasco State Prison</td>\n",
              "      <td>Kern</td>\n",
              "      <td>Hispanic</td>\n",
              "      <td>Male</td>\n",
              "      <td>50</td>\n",
              "      <td>Sentenced</td>\n",
              "      <td>501</td>\n",
              "      <td>2005</td>\n",
              "      <td>1</td>\n",
              "      <td>6</td>\n",
              "      <td>CDC/CRC</td>\n",
              "      <td>Not Applicable</td>\n",
              "      <td>Local Hospital</td>\n",
              "      <td>Natural</td>\n",
              "      <td>Not Applicable</td>\n",
              "    </tr>\n",
              "    <tr>\n",
              "      <th>4</th>\n",
              "      <td>2005005</td>\n",
              "      <td>State</td>\n",
              "      <td>34065C</td>\n",
              "      <td>California State Prison, Sacramento</td>\n",
              "      <td>Sacramento</td>\n",
              "      <td>White</td>\n",
              "      <td>Male</td>\n",
              "      <td>53</td>\n",
              "      <td>Sentenced</td>\n",
              "      <td>800</td>\n",
              "      <td>2005</td>\n",
              "      <td>1</td>\n",
              "      <td>9</td>\n",
              "      <td>CDC/CRC</td>\n",
              "      <td>Not Applicable</td>\n",
              "      <td>Local Hospital</td>\n",
              "      <td>Natural</td>\n",
              "      <td>Not Applicable</td>\n",
              "    </tr>\n",
              "  </tbody>\n",
              "</table>\n",
              "</div>"
            ],
            "text/plain": [
              "   record_key_number reporting_agency  ... manner_of_death         means_of_death\n",
              "0            2005001            State  ...         Suicide  Hanging,Strangulation\n",
              "1            2005002           Police  ...         Natural         Not Applicable\n",
              "2            2005003            State  ...         Natural         Not Applicable\n",
              "3            2005004            State  ...         Natural         Not Applicable\n",
              "4            2005005            State  ...         Natural         Not Applicable\n",
              "\n",
              "[5 rows x 18 columns]"
            ]
          },
          "metadata": {
            "tags": []
          },
          "execution_count": 4
        }
      ]
    },
    {
      "cell_type": "code",
      "metadata": {
        "id": "6v-2FTGcym-u",
        "colab": {
          "base_uri": "https://localhost:8080/",
          "height": 390
        },
        "outputId": "b2e2edf5-d123-45c2-a9b8-ffb87c4344a7"
      },
      "source": [
        "# Getting manner_of_death column and getting the frequency of unique values\r\n",
        "manner_of_death_count = sqldf('SELECT manner_of_death, COUNT(manner_of_death) FROM df GROUP BY manner_of_death')\r\n",
        "manner_of_death_count"
      ],
      "execution_count": 5,
      "outputs": [
        {
          "output_type": "execute_result",
          "data": {
            "text/html": [
              "<div>\n",
              "<style scoped>\n",
              "    .dataframe tbody tr th:only-of-type {\n",
              "        vertical-align: middle;\n",
              "    }\n",
              "\n",
              "    .dataframe tbody tr th {\n",
              "        vertical-align: top;\n",
              "    }\n",
              "\n",
              "    .dataframe thead th {\n",
              "        text-align: right;\n",
              "    }\n",
              "</style>\n",
              "<table border=\"1\" class=\"dataframe\">\n",
              "  <thead>\n",
              "    <tr style=\"text-align: right;\">\n",
              "      <th></th>\n",
              "      <th>manner_of_death</th>\n",
              "      <th>COUNT(manner_of_death)</th>\n",
              "    </tr>\n",
              "  </thead>\n",
              "  <tbody>\n",
              "    <tr>\n",
              "      <th>0</th>\n",
              "      <td>Accidental</td>\n",
              "      <td>683</td>\n",
              "    </tr>\n",
              "    <tr>\n",
              "      <th>1</th>\n",
              "      <td>Cannot be Determined</td>\n",
              "      <td>115</td>\n",
              "    </tr>\n",
              "    <tr>\n",
              "      <th>2</th>\n",
              "      <td>Execution</td>\n",
              "      <td>1</td>\n",
              "    </tr>\n",
              "    <tr>\n",
              "      <th>3</th>\n",
              "      <td>Homicide Justified (Law Enforcement Staff)</td>\n",
              "      <td>1269</td>\n",
              "    </tr>\n",
              "    <tr>\n",
              "      <th>4</th>\n",
              "      <td>Homicide Justified (Other Inmate)</td>\n",
              "      <td>3</td>\n",
              "    </tr>\n",
              "    <tr>\n",
              "      <th>5</th>\n",
              "      <td>Homicide Willful (Law Enforcement Staff)</td>\n",
              "      <td>4</td>\n",
              "    </tr>\n",
              "    <tr>\n",
              "      <th>6</th>\n",
              "      <td>Homicide Willful (Other Inmate)</td>\n",
              "      <td>229</td>\n",
              "    </tr>\n",
              "    <tr>\n",
              "      <th>7</th>\n",
              "      <td>Natural</td>\n",
              "      <td>4935</td>\n",
              "    </tr>\n",
              "    <tr>\n",
              "      <th>8</th>\n",
              "      <td>Other</td>\n",
              "      <td>28</td>\n",
              "    </tr>\n",
              "    <tr>\n",
              "      <th>9</th>\n",
              "      <td>Pending Investigation</td>\n",
              "      <td>250</td>\n",
              "    </tr>\n",
              "    <tr>\n",
              "      <th>10</th>\n",
              "      <td>Suicide</td>\n",
              "      <td>856</td>\n",
              "    </tr>\n",
              "  </tbody>\n",
              "</table>\n",
              "</div>"
            ],
            "text/plain": [
              "                               manner_of_death  COUNT(manner_of_death)\n",
              "0                                   Accidental                     683\n",
              "1                         Cannot be Determined                     115\n",
              "2                                    Execution                       1\n",
              "3   Homicide Justified (Law Enforcement Staff)                    1269\n",
              "4            Homicide Justified (Other Inmate)                       3\n",
              "5     Homicide Willful (Law Enforcement Staff)                       4\n",
              "6              Homicide Willful (Other Inmate)                     229\n",
              "7                                      Natural                    4935\n",
              "8                                        Other                      28\n",
              "9                        Pending Investigation                     250\n",
              "10                                     Suicide                     856"
            ]
          },
          "metadata": {
            "tags": []
          },
          "execution_count": 5
        }
      ]
    },
    {
      "cell_type": "markdown",
      "metadata": {
        "id": "YYlBWvLjNINQ"
      },
      "source": [
        "**As we can see the output of manner_of_death_count that Accidental, Natural and Suicide deaths have the highest frequency. So these values shall be used in the analysis.**"
      ]
    },
    {
      "cell_type": "code",
      "metadata": {
        "id": "CC_5vtNUPHXb",
        "colab": {
          "base_uri": "https://localhost:8080/",
          "height": 111
        },
        "outputId": "24121b21-0229-416c-881b-35d638d17391"
      },
      "source": [
        "# Breaking down Suicide manner of death by gender\r\n",
        "gender_death_rate_by_suicide = sqldf('SELECT gender,COUNT(manner_of_death) AS suicide_count FROM df WHERE manner_of_death = \"Suicide\" GROUP BY gender')\r\n",
        "gender_death_rate_by_suicide"
      ],
      "execution_count": 6,
      "outputs": [
        {
          "output_type": "execute_result",
          "data": {
            "text/html": [
              "<div>\n",
              "<style scoped>\n",
              "    .dataframe tbody tr th:only-of-type {\n",
              "        vertical-align: middle;\n",
              "    }\n",
              "\n",
              "    .dataframe tbody tr th {\n",
              "        vertical-align: top;\n",
              "    }\n",
              "\n",
              "    .dataframe thead th {\n",
              "        text-align: right;\n",
              "    }\n",
              "</style>\n",
              "<table border=\"1\" class=\"dataframe\">\n",
              "  <thead>\n",
              "    <tr style=\"text-align: right;\">\n",
              "      <th></th>\n",
              "      <th>gender</th>\n",
              "      <th>suicide_count</th>\n",
              "    </tr>\n",
              "  </thead>\n",
              "  <tbody>\n",
              "    <tr>\n",
              "      <th>0</th>\n",
              "      <td>Female</td>\n",
              "      <td>58</td>\n",
              "    </tr>\n",
              "    <tr>\n",
              "      <th>1</th>\n",
              "      <td>Male</td>\n",
              "      <td>798</td>\n",
              "    </tr>\n",
              "  </tbody>\n",
              "</table>\n",
              "</div>"
            ],
            "text/plain": [
              "   gender  suicide_count\n",
              "0  Female             58\n",
              "1    Male            798"
            ]
          },
          "metadata": {
            "tags": []
          },
          "execution_count": 6
        }
      ]
    },
    {
      "cell_type": "code",
      "metadata": {
        "id": "Tun9guZQ707X"
      },
      "source": [
        "# Calculating the percentage of suicide rate by gender\r\n",
        "female_death_rate_by_suicide = gender_death_rate_by_suicide['suicide_count'][0]\r\n",
        "percentage_female_death_rate_by_suicide = ((female_death_rate_by_suicide / 856) * 100).round(2)\r\n",
        "male_death_rate_by_suicide = (gender_death_rate_by_suicide['suicide_count'][1])\r\n",
        "percentage_male_death_rate_by_suicide = ((male_death_rate_by_suicide / 856) * 100).round(2)"
      ],
      "execution_count": 7,
      "outputs": []
    },
    {
      "cell_type": "code",
      "metadata": {
        "id": "W7YN_cxpciBU"
      },
      "source": [
        "# Using numpy to assign values to an array for x axis in the graph\r\n",
        "gender = [\"Female\", \"Male\"]\r\n",
        "ypos_gender = np.arange(len(gender))"
      ],
      "execution_count": 8,
      "outputs": []
    },
    {
      "cell_type": "code",
      "metadata": {
        "colab": {
          "base_uri": "https://localhost:8080/",
          "height": 312
        },
        "id": "HreS0L8vaLWF",
        "outputId": "e3667fbc-ffa4-4b58-86cd-7e1d7d7655cc"
      },
      "source": [
        "# Creating a visulization from the analysis of Suicide Rate by Gender\n",
        "plt.bar(range(2),(percentage_female_death_rate_by_suicide, percentage_male_death_rate_by_suicide))\n",
        "plt.title(\"Suicide Rate by Gender\")\n",
        "plt.xticks(ypos_gender,gender)\n",
        "plt.xlabel(\"Gender\")\n",
        "plt.ylabel(\"Suicide Rate\")"
      ],
      "execution_count": 9,
      "outputs": [
        {
          "output_type": "execute_result",
          "data": {
            "text/plain": [
              "Text(0, 0.5, 'Suicide Rate')"
            ]
          },
          "metadata": {
            "tags": []
          },
          "execution_count": 9
        },
        {
          "output_type": "display_data",
          "data": {
            "image/png": "[encoded data removed]",
            "text/plain": [
              "<Figure size 432x288 with 1 Axes>"
            ]
          },
          "metadata": {
            "tags": [],
            "needs_background": "light"
          }
        }
      ]
    },
    {
      "cell_type": "markdown",
      "metadata": {
        "id": "EKUbUvAXbX66"
      },
      "source": [
        "As shown in the graph above female's suicide rate is 6.78% and male's suicide rate is 93.22%. So, it shows that male's suicide rate is way higher comparing to female's suicide rate."
      ]
    },
    {
      "cell_type": "code",
      "metadata": {
        "id": "gFIHi_U3aVFL",
        "colab": {
          "base_uri": "https://localhost:8080/",
          "height": 35
        },
        "outputId": "91c01368-f0c1-4c50-b312-ab180d12618d"
      },
      "source": [
        "# Minimum age in the dataset\r\n",
        "df['age'].min()"
      ],
      "execution_count": 10,
      "outputs": [
        {
          "output_type": "execute_result",
          "data": {
            "application/vnd.google.colaboratory.intrinsic+json": {
              "type": "string"
            },
            "text/plain": [
              "'13'"
            ]
          },
          "metadata": {
            "tags": []
          },
          "execution_count": 10
        }
      ]
    },
    {
      "cell_type": "code",
      "metadata": {
        "colab": {
          "base_uri": "https://localhost:8080/",
          "height": 35
        },
        "id": "FVROUDP0Prb2",
        "outputId": "9996b973-5c10-4e79-d735-53e02350ead1"
      },
      "source": [
        "# Maximum age in the dataset\r\n",
        "df['age'].max()"
      ],
      "execution_count": 11,
      "outputs": [
        {
          "output_type": "execute_result",
          "data": {
            "application/vnd.google.colaboratory.intrinsic+json": {
              "type": "string"
            },
            "text/plain": [
              "'Unk'"
            ]
          },
          "metadata": {
            "tags": []
          },
          "execution_count": 11
        }
      ]
    },
    {
      "cell_type": "code",
      "metadata": {
        "id": "4aBdeK7YftnD"
      },
      "source": [
        "# Replacing the \"Unk\" value with the average of the \"age\" column\n",
        "df['age'] = df['age'].replace(['Unk'], '55')"
      ],
      "execution_count": 12,
      "outputs": []
    },
    {
      "cell_type": "code",
      "metadata": {
        "colab": {
          "base_uri": "https://localhost:8080/",
          "height": 35
        },
        "id": "dN2zFslbfzms",
        "outputId": "e5c7c4a4-9460-45a8-c51a-7912362d8982"
      },
      "source": [
        "# Updated value of maximum age in the dataset\r\n",
        "df['age'].max()"
      ],
      "execution_count": 13,
      "outputs": [
        {
          "output_type": "execute_result",
          "data": {
            "application/vnd.google.colaboratory.intrinsic+json": {
              "type": "string"
            },
            "text/plain": [
              "'97'"
            ]
          },
          "metadata": {
            "tags": []
          },
          "execution_count": 13
        }
      ]
    },
    {
      "cell_type": "markdown",
      "metadata": {
        "id": "ciLfHH6yQHMO"
      },
      "source": [
        "The raw data for age has the maximum value of 'Unk' which cannot be analyzed numerically, that is why it is replaced by the average value of the age."
      ]
    },
    {
      "cell_type": "code",
      "metadata": {
        "id": "pGlWIA5ch6pw"
      },
      "source": [
        "# Breaking down into percentage for the age column from age 13 to 30 for natural manner of death\r\n",
        "_13_to_30_natural_death = sqldf('SELECT age, COUNT(manner_of_death) FROM df WHERE age < 31 AND manner_of_death = \"Natural\" GROUP BY age')\r\n",
        "sum_13_to_30_natural_death = _13_to_30_natural_death['COUNT(manner_of_death)'].sum()\r\n",
        "percentage_13_to_30_natural_death = ((sum_13_to_30_natural_death / 4935) * 100).round(2)"
      ],
      "execution_count": 14,
      "outputs": []
    },
    {
      "cell_type": "code",
      "metadata": {
        "colab": {
          "base_uri": "https://localhost:8080/"
        },
        "id": "uRU3_O7jcWfG",
        "outputId": "1c2369bf-6587-4d49-b2b9-a631f292d89b"
      },
      "source": [
        "percentage_13_to_30_natural_death"
      ],
      "execution_count": 15,
      "outputs": [
        {
          "output_type": "execute_result",
          "data": {
            "text/plain": [
              "3.51"
            ]
          },
          "metadata": {
            "tags": []
          },
          "execution_count": 15
        }
      ]
    },
    {
      "cell_type": "code",
      "metadata": {
        "id": "C828MYwlzX5f"
      },
      "source": [
        "# Breaking down into percentage the age column from age 31 to 50 for natural manner of death\r\n",
        "_31_to_50_natural_death = sqldf('SELECT age, COUNT(manner_of_death) FROM df WHERE age > 30 AND age < 51 AND manner_of_death = \"Natural\" GROUP BY age')\r\n",
        "sum_31_to_50_natural_death = _31_to_50_natural_death['COUNT(manner_of_death)'].sum()\r\n",
        "percentage_31_to_50_natural_death = ((sum_31_to_50_natural_death / 4935) * 100).round(2)"
      ],
      "execution_count": 16,
      "outputs": []
    },
    {
      "cell_type": "code",
      "metadata": {
        "id": "lsGLGCeMzmPg"
      },
      "source": [
        "# Breaking down into percentage the age column from age  51 to 70 for natural manner of death\r\n",
        "_51_to_70_natural_death = sqldf('SELECT age, COUNT(manner_of_death) FROM df WHERE age > 50 AND age < 71 AND manner_of_death = \"Natural\" GROUP BY age')\r\n",
        "sum_51_to_70_natural_death = _51_to_70_natural_death['COUNT(manner_of_death)'].sum()\r\n",
        "percentage_51_to_70_natural_death = ((sum_51_to_70_natural_death / 4935) * 100).round(2)"
      ],
      "execution_count": 17,
      "outputs": []
    },
    {
      "cell_type": "code",
      "metadata": {
        "id": "fzyKgMi2zuEv"
      },
      "source": [
        "# Breaking down into percentage the age column from age 71 to 97 for natural manner of death\r\n",
        "_71_to_97_natural_death = sqldf('SELECT age, COUNT(manner_of_death) FROM df WHERE age > 70 AND manner_of_death = \"Natural\" GROUP BY age')\r\n",
        "sum_71_to_97_natural_death = _71_to_97_natural_death['COUNT(manner_of_death)'].sum()\r\n",
        "percentage_71_to_97_natural_death = ((sum_71_to_97_natural_death / 4935) * 100).round(2)"
      ],
      "execution_count": 18,
      "outputs": []
    },
    {
      "cell_type": "code",
      "metadata": {
        "id": "AwOINEIbI4yD"
      },
      "source": [
        "# Using numpy to assign values to an array for x axis in the graph\r\n",
        "age_count = [\"13 to 30\", \"31 to 50\", \"51 to 70\", \"71 to 97\"]\r\n",
        "ypos_ages_count = np.arange(len(age_count))"
      ],
      "execution_count": 19,
      "outputs": []
    },
    {
      "cell_type": "code",
      "metadata": {
        "id": "6nrkInG90w09",
        "colab": {
          "base_uri": "https://localhost:8080/",
          "height": 312
        },
        "outputId": "4075ced0-582b-43a6-da50-a376e14f7ab5"
      },
      "source": [
        "# Creating a visulization from the analysis of Natural Death Rate by Age\r\n",
        "plt.bar(range(4),(percentage_13_to_30_natural_death,percentage_31_to_50_natural_death,percentage_51_to_70_natural_death,percentage_71_to_97_natural_death))\r\n",
        "plt.title(\"Percentage of Natural Death by Age\")\r\n",
        "plt.xticks(ypos_ages_count, age_count)\r\n",
        "plt.xlabel(\"Ages\")\r\n",
        "plt.ylabel(\"Natural Death Rate\")"
      ],
      "execution_count": 20,
      "outputs": [
        {
          "output_type": "execute_result",
          "data": {
            "text/plain": [
              "Text(0, 0.5, 'Natural Death Rate')"
            ]
          },
          "metadata": {
            "tags": []
          },
          "execution_count": 20
        },
        {
          "output_type": "display_data",
          "data": {
            "image/png": "[encoded data removed]",
            "text/plain": [
              "<Figure size 432x288 with 1 Axes>"
            ]
          },
          "metadata": {
            "tags": [],
            "needs_background": "light"
          }
        }
      ]
    },
    {
      "cell_type": "markdown",
      "metadata": {
        "id": "euAQp3bvcOll"
      },
      "source": [
        "From the graph above, it is shown that the highest natural death rate is from age 51 to 70 which is 55.42% and the lowest natural death rate is from age 13 to 30 which is 3.51%. So, the youngest population tends to have less natural death compare to the older population."
      ]
    },
    {
      "cell_type": "code",
      "metadata": {
        "id": "tIiqjL4OZA3Z",
        "colab": {
          "base_uri": "https://localhost:8080/",
          "height": 607
        },
        "outputId": "aa4b0738-de50-4308-9fb4-bc33c87f5120"
      },
      "source": [
        "# Query race and the count of race column by using SQL\r\n",
        "count_of_race = sqldf(\"SELECT race, COUNT(race) FROM df GROUP BY race\")\r\n",
        "count_of_race"
      ],
      "execution_count": 21,
      "outputs": [
        {
          "output_type": "execute_result",
          "data": {
            "text/html": [
              "<div>\n",
              "<style scoped>\n",
              "    .dataframe tbody tr th:only-of-type {\n",
              "        vertical-align: middle;\n",
              "    }\n",
              "\n",
              "    .dataframe tbody tr th {\n",
              "        vertical-align: top;\n",
              "    }\n",
              "\n",
              "    .dataframe thead th {\n",
              "        text-align: right;\n",
              "    }\n",
              "</style>\n",
              "<table border=\"1\" class=\"dataframe\">\n",
              "  <thead>\n",
              "    <tr style=\"text-align: right;\">\n",
              "      <th></th>\n",
              "      <th>race</th>\n",
              "      <th>COUNT(race)</th>\n",
              "    </tr>\n",
              "  </thead>\n",
              "  <tbody>\n",
              "    <tr>\n",
              "      <th>0</th>\n",
              "      <td>American Indian</td>\n",
              "      <td>80</td>\n",
              "    </tr>\n",
              "    <tr>\n",
              "      <th>1</th>\n",
              "      <td>Asian Indian</td>\n",
              "      <td>18</td>\n",
              "    </tr>\n",
              "    <tr>\n",
              "      <th>2</th>\n",
              "      <td>Black</td>\n",
              "      <td>1972</td>\n",
              "    </tr>\n",
              "    <tr>\n",
              "      <th>3</th>\n",
              "      <td>Cambodian</td>\n",
              "      <td>5</td>\n",
              "    </tr>\n",
              "    <tr>\n",
              "      <th>4</th>\n",
              "      <td>Chinese</td>\n",
              "      <td>15</td>\n",
              "    </tr>\n",
              "    <tr>\n",
              "      <th>5</th>\n",
              "      <td>Filipino</td>\n",
              "      <td>55</td>\n",
              "    </tr>\n",
              "    <tr>\n",
              "      <th>6</th>\n",
              "      <td>Guamanian</td>\n",
              "      <td>3</td>\n",
              "    </tr>\n",
              "    <tr>\n",
              "      <th>7</th>\n",
              "      <td>Hawaiian</td>\n",
              "      <td>1</td>\n",
              "    </tr>\n",
              "    <tr>\n",
              "      <th>8</th>\n",
              "      <td>Hispanic</td>\n",
              "      <td>2494</td>\n",
              "    </tr>\n",
              "    <tr>\n",
              "      <th>9</th>\n",
              "      <td>Japanese</td>\n",
              "      <td>4</td>\n",
              "    </tr>\n",
              "    <tr>\n",
              "      <th>10</th>\n",
              "      <td>Korean</td>\n",
              "      <td>16</td>\n",
              "    </tr>\n",
              "    <tr>\n",
              "      <th>11</th>\n",
              "      <td>Laotian</td>\n",
              "      <td>10</td>\n",
              "    </tr>\n",
              "    <tr>\n",
              "      <th>12</th>\n",
              "      <td>Other</td>\n",
              "      <td>137</td>\n",
              "    </tr>\n",
              "    <tr>\n",
              "      <th>13</th>\n",
              "      <td>Other Asian</td>\n",
              "      <td>61</td>\n",
              "    </tr>\n",
              "    <tr>\n",
              "      <th>14</th>\n",
              "      <td>Pacific Islander</td>\n",
              "      <td>19</td>\n",
              "    </tr>\n",
              "    <tr>\n",
              "      <th>15</th>\n",
              "      <td>Samoan</td>\n",
              "      <td>8</td>\n",
              "    </tr>\n",
              "    <tr>\n",
              "      <th>16</th>\n",
              "      <td>Vietnamese</td>\n",
              "      <td>35</td>\n",
              "    </tr>\n",
              "    <tr>\n",
              "      <th>17</th>\n",
              "      <td>White</td>\n",
              "      <td>3440</td>\n",
              "    </tr>\n",
              "  </tbody>\n",
              "</table>\n",
              "</div>"
            ],
            "text/plain": [
              "                race  COUNT(race)\n",
              "0    American Indian           80\n",
              "1       Asian Indian           18\n",
              "2              Black         1972\n",
              "3          Cambodian            5\n",
              "4            Chinese           15\n",
              "5           Filipino           55\n",
              "6          Guamanian            3\n",
              "7           Hawaiian            1\n",
              "8           Hispanic         2494\n",
              "9           Japanese            4\n",
              "10            Korean           16\n",
              "11           Laotian           10\n",
              "12             Other          137\n",
              "13       Other Asian           61\n",
              "14  Pacific Islander           19\n",
              "15            Samoan            8\n",
              "16        Vietnamese           35\n",
              "17             White         3440"
            ]
          },
          "metadata": {
            "tags": []
          },
          "execution_count": 21
        }
      ]
    },
    {
      "cell_type": "code",
      "metadata": {
        "colab": {
          "base_uri": "https://localhost:8080/",
          "height": 421
        },
        "id": "V2Tci6is5s-6",
        "outputId": "f37bdcf6-7f4b-45c0-a5fb-c6f40f5cd141"
      },
      "source": [
        "# Query race and the count of manner of death for Accidental column by using SQL\r\n",
        "accidental_death_by_race = sqldf(\"SELECT race, COUNT(manner_of_death) AS 'Accidental Death Count' FROM df WHERE manner_of_death = 'Accidental' GROUP BY race\")\r\n",
        "accidental_death_by_race"
      ],
      "execution_count": 22,
      "outputs": [
        {
          "output_type": "execute_result",
          "data": {
            "text/html": [
              "<div>\n",
              "<style scoped>\n",
              "    .dataframe tbody tr th:only-of-type {\n",
              "        vertical-align: middle;\n",
              "    }\n",
              "\n",
              "    .dataframe tbody tr th {\n",
              "        vertical-align: top;\n",
              "    }\n",
              "\n",
              "    .dataframe thead th {\n",
              "        text-align: right;\n",
              "    }\n",
              "</style>\n",
              "<table border=\"1\" class=\"dataframe\">\n",
              "  <thead>\n",
              "    <tr style=\"text-align: right;\">\n",
              "      <th></th>\n",
              "      <th>race</th>\n",
              "      <th>Accidental Death Count</th>\n",
              "    </tr>\n",
              "  </thead>\n",
              "  <tbody>\n",
              "    <tr>\n",
              "      <th>0</th>\n",
              "      <td>American Indian</td>\n",
              "      <td>6</td>\n",
              "    </tr>\n",
              "    <tr>\n",
              "      <th>1</th>\n",
              "      <td>Black</td>\n",
              "      <td>142</td>\n",
              "    </tr>\n",
              "    <tr>\n",
              "      <th>2</th>\n",
              "      <td>Cambodian</td>\n",
              "      <td>1</td>\n",
              "    </tr>\n",
              "    <tr>\n",
              "      <th>3</th>\n",
              "      <td>Chinese</td>\n",
              "      <td>2</td>\n",
              "    </tr>\n",
              "    <tr>\n",
              "      <th>4</th>\n",
              "      <td>Filipino</td>\n",
              "      <td>1</td>\n",
              "    </tr>\n",
              "    <tr>\n",
              "      <th>5</th>\n",
              "      <td>Guamanian</td>\n",
              "      <td>1</td>\n",
              "    </tr>\n",
              "    <tr>\n",
              "      <th>6</th>\n",
              "      <td>Hispanic</td>\n",
              "      <td>247</td>\n",
              "    </tr>\n",
              "    <tr>\n",
              "      <th>7</th>\n",
              "      <td>Laotian</td>\n",
              "      <td>1</td>\n",
              "    </tr>\n",
              "    <tr>\n",
              "      <th>8</th>\n",
              "      <td>Other</td>\n",
              "      <td>7</td>\n",
              "    </tr>\n",
              "    <tr>\n",
              "      <th>9</th>\n",
              "      <td>Other Asian</td>\n",
              "      <td>6</td>\n",
              "    </tr>\n",
              "    <tr>\n",
              "      <th>10</th>\n",
              "      <td>Vietnamese</td>\n",
              "      <td>4</td>\n",
              "    </tr>\n",
              "    <tr>\n",
              "      <th>11</th>\n",
              "      <td>White</td>\n",
              "      <td>265</td>\n",
              "    </tr>\n",
              "  </tbody>\n",
              "</table>\n",
              "</div>"
            ],
            "text/plain": [
              "               race  Accidental Death Count\n",
              "0   American Indian                       6\n",
              "1             Black                     142\n",
              "2         Cambodian                       1\n",
              "3           Chinese                       2\n",
              "4          Filipino                       1\n",
              "5         Guamanian                       1\n",
              "6          Hispanic                     247\n",
              "7           Laotian                       1\n",
              "8             Other                       7\n",
              "9       Other Asian                       6\n",
              "10       Vietnamese                       4\n",
              "11            White                     265"
            ]
          },
          "metadata": {
            "tags": []
          },
          "execution_count": 22
        }
      ]
    },
    {
      "cell_type": "code",
      "metadata": {
        "id": "hWRpSq8aPGBW"
      },
      "source": [
        "# Summing up the accidental death count\r\n",
        "sum_of_accidental_death = accidental_death_by_race[\"Accidental Death Count\"].sum()"
      ],
      "execution_count": 23,
      "outputs": []
    },
    {
      "cell_type": "code",
      "metadata": {
        "id": "_FDKHNf87rz4"
      },
      "source": [
        "# Creating variables for top 5 individual frequency of race\r\n",
        "white_death_by_accidental = accidental_death_by_race['Accidental Death Count'][11]\r\n",
        "hispanic_death_by_accidental = accidental_death_by_race['Accidental Death Count'][6]\r\n",
        "black_death_by_accidental = accidental_death_by_race['Accidental Death Count'][1]\r\n",
        "other_death_by_accidental = accidental_death_by_race['Accidental Death Count'][8]\r\n",
        "american_indian_death_by_accidental = accidental_death_by_race['Accidental Death Count'][0]"
      ],
      "execution_count": 24,
      "outputs": []
    },
    {
      "cell_type": "code",
      "metadata": {
        "id": "NB4A9UUsPRTz"
      },
      "source": [
        "# Calculating the percentage for top 5 individual frequency of race\r\n",
        "percentage_white_death_by_accidental = ((white_death_by_accidental / sum_of_accidental_death) * 100).round(2)\r\n",
        "percentage_hispanic_death_by_accidental = ((hispanic_death_by_accidental / sum_of_accidental_death) * 100).round(2)\r\n",
        "percentage_black_death_by_accidental = ((black_death_by_accidental / sum_of_accidental_death) * 100).round(2)\r\n",
        "percentage_other_death_by_accidental = ((other_death_by_accidental / sum_of_accidental_death) * 100).round(2)\r\n",
        "percentage_american_indian_death_by_accidental = ((american_indian_death_by_accidental / sum_of_accidental_death) * 100).round(2)"
      ],
      "execution_count": 25,
      "outputs": []
    },
    {
      "cell_type": "code",
      "metadata": {
        "id": "dA9ZxUae90kG"
      },
      "source": [
        "# Using numpy to assign values to an array for x axis in the graph\r\n",
        "races = [\"White\", \"Hispanic\", \"Black\", \"Other\", \"American Indian\"]\r\n",
        "ypos_races = np.arange(len(races))"
      ],
      "execution_count": 26,
      "outputs": []
    },
    {
      "cell_type": "code",
      "metadata": {
        "colab": {
          "base_uri": "https://localhost:8080/",
          "height": 312
        },
        "id": "2qivGW0j7vqU",
        "outputId": "613bcda8-86fa-4104-e762-5f75417c99f3"
      },
      "source": [
        "# Creating a visulization from the analysis of Accidental Death Rate by Race\r\n",
        "plt.bar(range(5),(percentage_white_death_by_accidental,percentage_hispanic_death_by_accidental,percentage_black_death_by_accidental,percentage_other_death_by_accidental,percentage_american_indian_death_by_accidental))\r\n",
        "plt.title(\"Accidental Death by Race\")\r\n",
        "plt.xlabel(\"Races\")\r\n",
        "plt.xticks(ypos_races, races)\r\n",
        "plt.ylabel(\"Accidental Death Rate\")"
      ],
      "execution_count": 27,
      "outputs": [
        {
          "output_type": "execute_result",
          "data": {
            "text/plain": [
              "Text(0, 0.5, 'Accidental Death Rate')"
            ]
          },
          "metadata": {
            "tags": []
          },
          "execution_count": 27
        },
        {
          "output_type": "display_data",
          "data": {
            "image/png": "[encoded data removed]",
            "text/plain": [
              "<Figure size 432x288 with 1 Axes>"
            ]
          },
          "metadata": {
            "tags": [],
            "needs_background": "light"
          }
        }
      ]
    },
    {
      "cell_type": "markdown",
      "metadata": {
        "id": "xhO4ZVlydZGd"
      },
      "source": [
        "From the graph shown above, the highest accidental death rate is white which is 38.8% and the lowest from the top 5 population accidental death rate is American Indian which is 0.88%."
      ]
    },
    {
      "cell_type": "code",
      "metadata": {
        "colab": {
          "base_uri": "https://localhost:8080/",
          "height": 297
        },
        "id": "7rinSc-p9wt8",
        "outputId": "ff2ddbaf-eb08-432e-fa2f-ca2bc71dfc1d"
      },
      "source": [
        "# Query custody status and the count of custody status by using SQL\r\n",
        "count_custody_status = sqldf(\"SELECT custody_status, COUNT(custody_status) FROM df GROUP BY custody_status\")\r\n",
        "count_custody_status"
      ],
      "execution_count": 28,
      "outputs": [
        {
          "output_type": "execute_result",
          "data": {
            "text/html": [
              "<div>\n",
              "<style scoped>\n",
              "    .dataframe tbody tr th:only-of-type {\n",
              "        vertical-align: middle;\n",
              "    }\n",
              "\n",
              "    .dataframe tbody tr th {\n",
              "        vertical-align: top;\n",
              "    }\n",
              "\n",
              "    .dataframe thead th {\n",
              "        text-align: right;\n",
              "    }\n",
              "</style>\n",
              "<table border=\"1\" class=\"dataframe\">\n",
              "  <thead>\n",
              "    <tr style=\"text-align: right;\">\n",
              "      <th></th>\n",
              "      <th>custody_status</th>\n",
              "      <th>COUNT(custody_status)</th>\n",
              "    </tr>\n",
              "  </thead>\n",
              "  <tbody>\n",
              "    <tr>\n",
              "      <th>0</th>\n",
              "      <td>Awaiting Booking</td>\n",
              "      <td>97</td>\n",
              "    </tr>\n",
              "    <tr>\n",
              "      <th>1</th>\n",
              "      <td>Booked - Awaiting Trial</td>\n",
              "      <td>1031</td>\n",
              "    </tr>\n",
              "    <tr>\n",
              "      <th>2</th>\n",
              "      <td>Booked - No Charges Filed</td>\n",
              "      <td>203</td>\n",
              "    </tr>\n",
              "    <tr>\n",
              "      <th>3</th>\n",
              "      <td>In Transit</td>\n",
              "      <td>33</td>\n",
              "    </tr>\n",
              "    <tr>\n",
              "      <th>4</th>\n",
              "      <td>Other</td>\n",
              "      <td>198</td>\n",
              "    </tr>\n",
              "    <tr>\n",
              "      <th>5</th>\n",
              "      <td>Out to Court</td>\n",
              "      <td>14</td>\n",
              "    </tr>\n",
              "    <tr>\n",
              "      <th>6</th>\n",
              "      <td>Process of Arrest</td>\n",
              "      <td>1602</td>\n",
              "    </tr>\n",
              "    <tr>\n",
              "      <th>7</th>\n",
              "      <td>Sentenced</td>\n",
              "      <td>5195</td>\n",
              "    </tr>\n",
              "  </tbody>\n",
              "</table>\n",
              "</div>"
            ],
            "text/plain": [
              "              custody_status  COUNT(custody_status)\n",
              "0           Awaiting Booking                     97\n",
              "1    Booked - Awaiting Trial                   1031\n",
              "2  Booked - No Charges Filed                    203\n",
              "3                 In Transit                     33\n",
              "4                      Other                    198\n",
              "5               Out to Court                     14\n",
              "6          Process of Arrest                   1602\n",
              "7                  Sentenced                   5195"
            ]
          },
          "metadata": {
            "tags": []
          },
          "execution_count": 28
        }
      ]
    },
    {
      "cell_type": "code",
      "metadata": {
        "id": "Ud1IgRQpAdan",
        "colab": {
          "base_uri": "https://localhost:8080/",
          "height": 111
        },
        "outputId": "6959825d-4f80-4881-fe5a-6349eaa42517"
      },
      "source": [
        "# Query gender and the count of Sentenced Custody Status by using SQL\r\n",
        "sentenced_custody_status_by_gender = sqldf(\"SELECT gender, COUNT(custody_status) AS 'Custody Status Count' FROM df WHERE custody_status = 'Sentenced' GROUP BY gender\")\r\n",
        "sentenced_custody_status_by_gender"
      ],
      "execution_count": 29,
      "outputs": [
        {
          "output_type": "execute_result",
          "data": {
            "text/html": [
              "<div>\n",
              "<style scoped>\n",
              "    .dataframe tbody tr th:only-of-type {\n",
              "        vertical-align: middle;\n",
              "    }\n",
              "\n",
              "    .dataframe tbody tr th {\n",
              "        vertical-align: top;\n",
              "    }\n",
              "\n",
              "    .dataframe thead th {\n",
              "        text-align: right;\n",
              "    }\n",
              "</style>\n",
              "<table border=\"1\" class=\"dataframe\">\n",
              "  <thead>\n",
              "    <tr style=\"text-align: right;\">\n",
              "      <th></th>\n",
              "      <th>gender</th>\n",
              "      <th>Custody Status Count</th>\n",
              "    </tr>\n",
              "  </thead>\n",
              "  <tbody>\n",
              "    <tr>\n",
              "      <th>0</th>\n",
              "      <td>Female</td>\n",
              "      <td>234</td>\n",
              "    </tr>\n",
              "    <tr>\n",
              "      <th>1</th>\n",
              "      <td>Male</td>\n",
              "      <td>4961</td>\n",
              "    </tr>\n",
              "  </tbody>\n",
              "</table>\n",
              "</div>"
            ],
            "text/plain": [
              "   gender  Custody Status Count\n",
              "0  Female                   234\n",
              "1    Male                  4961"
            ]
          },
          "metadata": {
            "tags": []
          },
          "execution_count": 29
        }
      ]
    },
    {
      "cell_type": "code",
      "metadata": {
        "id": "uHu1Rus2QsxU"
      },
      "source": [
        "# Calculating the percentage of Senteced Custody Status by Gender\r\n",
        "sum_sentenced_custody_status_by_gender = sentenced_custody_status_by_gender['Custody Status Count'].sum()\r\n",
        "female_sentenced_custody_status_by_gender = sentenced_custody_status_by_gender['Custody Status Count'][0]\r\n",
        "male_sentenced_custody_status_by_gender = sentenced_custody_status_by_gender['Custody Status Count'][1]\r\n",
        "percentage_female_sentenced_custody_status_by_gender = ((female_sentenced_custody_status_by_gender / sum_sentenced_custody_status_by_gender) * 100).round(2)\r\n",
        "percentage_male_sentenced_custody_status_by_gender = ((male_sentenced_custody_status_by_gender / sum_sentenced_custody_status_by_gender) * 100).round(2)"
      ],
      "execution_count": 30,
      "outputs": []
    },
    {
      "cell_type": "code",
      "metadata": {
        "colab": {
          "base_uri": "https://localhost:8080/",
          "height": 312
        },
        "id": "rAQRouoIZ3a2",
        "outputId": "8ff0eb84-7a6e-4eb6-afb1-89f4c3c27f45"
      },
      "source": [
        "# Creating a visulization from the analysis of Sentenced Custody Status by Gender\r\n",
        "plt.bar(range(2),(percentage_female_sentenced_custody_status_by_gender, percentage_male_sentenced_custody_status_by_gender))\r\n",
        "plt.title(\"Sentenced Custody Status by Gender\")\r\n",
        "plt.xlabel(\"Gender\")\r\n",
        "plt.xticks(ypos_gender, gender)\r\n",
        "plt.ylabel(\"Sentenced Custody Status Rate\")"
      ],
      "execution_count": 31,
      "outputs": [
        {
          "output_type": "execute_result",
          "data": {
            "text/plain": [
              "Text(0, 0.5, 'Sentenced Custody Status Rate')"
            ]
          },
          "metadata": {
            "tags": []
          },
          "execution_count": 31
        },
        {
          "output_type": "display_data",
          "data": {
            "image/png": "[encoded data removed]",
            "text/plain": [
              "<Figure size 432x288 with 1 Axes>"
            ]
          },
          "metadata": {
            "tags": [],
            "needs_background": "light"
          }
        }
      ]
    },
    {
      "cell_type": "markdown",
      "metadata": {
        "id": "fm19jm4yC3w8"
      },
      "source": [
        "As shown in the graph above Senteced Custody Status rate for female is 4.50% and male is 95.50%. So, it shows that male's Sentenced Custody Status is way higher comparing to female's suicide rate."
      ]
    },
    {
      "cell_type": "code",
      "metadata": {
        "id": "1uVDNqsVN3yw"
      },
      "source": [
        "# Qurey the age and Count of Process of Arrest in Custody Status by Age\r\n",
        "age_process_of_arrest = sqldf('SELECT age, COUNT(custody_status) FROM df WHERE custody_status = \"Process of Arrest\" GROUP BY age')"
      ],
      "execution_count": 32,
      "outputs": []
    },
    {
      "cell_type": "code",
      "metadata": {
        "id": "4iAFKy0cEKYR"
      },
      "source": [
        "# Summing the total Process of Arrest in Custody Status by Age\r\n",
        "sum_age_process_of_arrest = age_process_of_arrest['COUNT(custody_status)'].sum()"
      ],
      "execution_count": 33,
      "outputs": []
    },
    {
      "cell_type": "code",
      "metadata": {
        "id": "7XNu3fBgaTFk"
      },
      "source": [
        "# Breaking down into percentage for the age column from age 13 to 30 for Process of Arrest in Custody Status\r\n",
        "_13_to_30_process_of_arrest = sqldf('SELECT age, COUNT(custody_status) FROM df WHERE age < 31 AND custody_status = \"Process of Arrest\" GROUP BY age')\r\n",
        "sum_13_to_30_process_of_arrest = _13_to_30_process_of_arrest['COUNT(custody_status)'].sum()\r\n",
        "percentage_13_to_30_process_of_arrest = ((sum_13_to_30_process_of_arrest / sum_age_process_of_arrest) * 100).round(2)"
      ],
      "execution_count": 34,
      "outputs": []
    },
    {
      "cell_type": "code",
      "metadata": {
        "id": "sUa3pQSOa5vg"
      },
      "source": [
        "# Breaking down into percentage for the age column from age 31 to 50 for Process of Arrest in Custody Status\r\n",
        "_31_to_50_process_of_arrest = sqldf('SELECT age, COUNT(custody_status) FROM df WHERE age > 30 AND age < 51 AND custody_status = \"Process of Arrest\" GROUP BY age')\r\n",
        "sum_31_to_50_process_of_arrest = _31_to_50_process_of_arrest['COUNT(custody_status)'].sum()\r\n",
        "percentage_31_to_50_process_of_arrest = ((sum_31_to_50_process_of_arrest / sum_age_process_of_arrest) * 100).round(2)"
      ],
      "execution_count": 35,
      "outputs": []
    },
    {
      "cell_type": "code",
      "metadata": {
        "id": "OcY-oY7obyX9"
      },
      "source": [
        "# Breaking down into percentage for the age column from age 51 to 70 for Process of Arrest in Custody Status\r\n",
        "_51_to_70_process_of_arrest = sqldf('SELECT age, COUNT(custody_status) FROM df WHERE age > 50 AND age < 71 AND custody_status = \"Process of Arrest\" GROUP BY age')\r\n",
        "sum_51_to_70_process_of_arrest = _51_to_70_process_of_arrest['COUNT(custody_status)'].sum()\r\n",
        "percentage_51_to_70_process_of_arrest = ((sum_51_to_70_process_of_arrest / sum_age_process_of_arrest) * 100).round(2)"
      ],
      "execution_count": 36,
      "outputs": []
    },
    {
      "cell_type": "code",
      "metadata": {
        "id": "lUPLdWVicLOG"
      },
      "source": [
        "# Breaking down into percentage for the age column from age 71 to 97 for Process of Arrest in Custody Status\r\n",
        "_71_to_97_process_of_arrest = sqldf('SELECT age, COUNT(custody_status) FROM df WHERE age > 71 AND custody_status = \"Process of Arrest\" GROUP BY age')\r\n",
        "sum_71_to_97_process_of_arrest = _71_to_97_process_of_arrest['COUNT(custody_status)'].sum()\r\n",
        "percentage_71_to_97_process_of_arrest = ((sum_71_to_97_process_of_arrest / sum_age_process_of_arrest) * 100).round(2)"
      ],
      "execution_count": 37,
      "outputs": []
    },
    {
      "cell_type": "code",
      "metadata": {
        "colab": {
          "base_uri": "https://localhost:8080/",
          "height": 312
        },
        "id": "nQuwOPjAdAKP",
        "outputId": "472d3342-1a52-4b49-9bb0-2daf9559c3fe"
      },
      "source": [
        "# Creating a visulization from the analysis of Process of Arrest in Custody Status by Age\r\n",
        "plt.bar(range(4),(percentage_13_to_30_process_of_arrest, percentage_31_to_50_process_of_arrest, percentage_51_to_70_process_of_arrest, percentage_71_to_97_process_of_arrest))\r\n",
        "plt.title(\"Process of Arrest Custody Status by Age\")\r\n",
        "plt.xlabel(\"Age\")\r\n",
        "plt.xticks(ypos_ages_count, age_count)\r\n",
        "plt.ylabel(\"Process of Arrest Rate\")"
      ],
      "execution_count": 38,
      "outputs": [
        {
          "output_type": "execute_result",
          "data": {
            "text/plain": [
              "Text(0, 0.5, 'Process of Arrest Rate')"
            ]
          },
          "metadata": {
            "tags": []
          },
          "execution_count": 38
        },
        {
          "output_type": "display_data",
          "data": {
            "image/png": "[encoded data removed]",
            "text/plain": [
              "<Figure size 432x288 with 1 Axes>"
            ]
          },
          "metadata": {
            "tags": [],
            "needs_background": "light"
          }
        }
      ]
    },
    {
      "cell_type": "markdown",
      "metadata": {
        "id": "RTast7ZKFJvt"
      },
      "source": [
        "From the graph above, it is shown that the highest Process of Arrest in Custody Status rate is from age 31 to 50 which is 42.45% and the lowest natural death rate is from age 71 to 97 which is 0.69%. So, the older population tends to have less Process of Arresnt in Custody Status compare to the younger population."
      ]
    },
    {
      "cell_type": "code",
      "metadata": {
        "id": "1dw-4Py1doq9",
        "colab": {
          "base_uri": "https://localhost:8080/",
          "height": 545
        },
        "outputId": "a29166a0-e4a6-4180-9e6a-88bf049dbf4c"
      },
      "source": [
        "# Query race and the count of Custody Status for Booked - Awaiting Trial by using SQL\r\n",
        "booked_awaiting_trail_custody_status_by_race = sqldf('SELECT race, COUNT(custody_status) FROM df WHERE custody_status = \"Booked - Awaiting Trial\" GROUP BY race')\r\n",
        "booked_awaiting_trail_custody_status_by_race"
      ],
      "execution_count": 40,
      "outputs": [
        {
          "output_type": "execute_result",
          "data": {
            "text/html": [
              "<div>\n",
              "<style scoped>\n",
              "    .dataframe tbody tr th:only-of-type {\n",
              "        vertical-align: middle;\n",
              "    }\n",
              "\n",
              "    .dataframe tbody tr th {\n",
              "        vertical-align: top;\n",
              "    }\n",
              "\n",
              "    .dataframe thead th {\n",
              "        text-align: right;\n",
              "    }\n",
              "</style>\n",
              "<table border=\"1\" class=\"dataframe\">\n",
              "  <thead>\n",
              "    <tr style=\"text-align: right;\">\n",
              "      <th></th>\n",
              "      <th>race</th>\n",
              "      <th>COUNT(custody_status)</th>\n",
              "    </tr>\n",
              "  </thead>\n",
              "  <tbody>\n",
              "    <tr>\n",
              "      <th>0</th>\n",
              "      <td>American Indian</td>\n",
              "      <td>6</td>\n",
              "    </tr>\n",
              "    <tr>\n",
              "      <th>1</th>\n",
              "      <td>Asian Indian</td>\n",
              "      <td>9</td>\n",
              "    </tr>\n",
              "    <tr>\n",
              "      <th>2</th>\n",
              "      <td>Black</td>\n",
              "      <td>211</td>\n",
              "    </tr>\n",
              "    <tr>\n",
              "      <th>3</th>\n",
              "      <td>Cambodian</td>\n",
              "      <td>1</td>\n",
              "    </tr>\n",
              "    <tr>\n",
              "      <th>4</th>\n",
              "      <td>Chinese</td>\n",
              "      <td>6</td>\n",
              "    </tr>\n",
              "    <tr>\n",
              "      <th>5</th>\n",
              "      <td>Filipino</td>\n",
              "      <td>6</td>\n",
              "    </tr>\n",
              "    <tr>\n",
              "      <th>6</th>\n",
              "      <td>Hawaiian</td>\n",
              "      <td>1</td>\n",
              "    </tr>\n",
              "    <tr>\n",
              "      <th>7</th>\n",
              "      <td>Hispanic</td>\n",
              "      <td>286</td>\n",
              "    </tr>\n",
              "    <tr>\n",
              "      <th>8</th>\n",
              "      <td>Japanese</td>\n",
              "      <td>1</td>\n",
              "    </tr>\n",
              "    <tr>\n",
              "      <th>9</th>\n",
              "      <td>Korean</td>\n",
              "      <td>1</td>\n",
              "    </tr>\n",
              "    <tr>\n",
              "      <th>10</th>\n",
              "      <td>Laotian</td>\n",
              "      <td>2</td>\n",
              "    </tr>\n",
              "    <tr>\n",
              "      <th>11</th>\n",
              "      <td>Other</td>\n",
              "      <td>9</td>\n",
              "    </tr>\n",
              "    <tr>\n",
              "      <th>12</th>\n",
              "      <td>Other Asian</td>\n",
              "      <td>13</td>\n",
              "    </tr>\n",
              "    <tr>\n",
              "      <th>13</th>\n",
              "      <td>Pacific Islander</td>\n",
              "      <td>1</td>\n",
              "    </tr>\n",
              "    <tr>\n",
              "      <th>14</th>\n",
              "      <td>Vietnamese</td>\n",
              "      <td>7</td>\n",
              "    </tr>\n",
              "    <tr>\n",
              "      <th>15</th>\n",
              "      <td>White</td>\n",
              "      <td>471</td>\n",
              "    </tr>\n",
              "  </tbody>\n",
              "</table>\n",
              "</div>"
            ],
            "text/plain": [
              "                race  COUNT(custody_status)\n",
              "0    American Indian                      6\n",
              "1       Asian Indian                      9\n",
              "2              Black                    211\n",
              "3          Cambodian                      1\n",
              "4            Chinese                      6\n",
              "5           Filipino                      6\n",
              "6           Hawaiian                      1\n",
              "7           Hispanic                    286\n",
              "8           Japanese                      1\n",
              "9             Korean                      1\n",
              "10           Laotian                      2\n",
              "11             Other                      9\n",
              "12       Other Asian                     13\n",
              "13  Pacific Islander                      1\n",
              "14        Vietnamese                      7\n",
              "15             White                    471"
            ]
          },
          "metadata": {
            "tags": []
          },
          "execution_count": 40
        }
      ]
    },
    {
      "cell_type": "code",
      "metadata": {
        "id": "5NkPo8cUCupT"
      },
      "source": [
        "# Summing up the Booked Awaiting Trial custody status count\r\n",
        "sum_of_booked_awaiting_trial = booked_awaiting_trail_custody_status_by_race['COUNT(custody_status)'].sum()"
      ],
      "execution_count": 42,
      "outputs": []
    },
    {
      "cell_type": "code",
      "metadata": {
        "id": "BUB-_V90DtMH"
      },
      "source": [
        "# Creating variables for top 5 individual frequency of race\r\n",
        "white_booked_awaiting_trial = booked_awaiting_trail_custody_status_by_race['COUNT(custody_status)'][15]\r\n",
        "hispanic_booked_awaiting_trial = booked_awaiting_trail_custody_status_by_race['COUNT(custody_status)'][7]\r\n",
        "black_booked_awaiting_trial = booked_awaiting_trail_custody_status_by_race['COUNT(custody_status)'][2]\r\n",
        "other_asian_booked_awaiting_trial = booked_awaiting_trail_custody_status_by_race['COUNT(custody_status)'][12]\r\n",
        "asian_indian_booked_awaiting_trial = booked_awaiting_trail_custody_status_by_race['COUNT(custody_status)'][1]                                                                                                                   "
      ],
      "execution_count": 43,
      "outputs": []
    },
    {
      "cell_type": "code",
      "metadata": {
        "id": "Lxt4r04DEnUW"
      },
      "source": [
        "# Calculating the percentage for top 5 individual frequency of race\r\n",
        "percentage_white_booked_awaiting_trial = ((white_booked_awaiting_trial / sum_of_booked_awaiting_trial) * 100).round(2) \r\n",
        "percentage_hispanic_booked_awaiting_trial = ((hispanic_booked_awaiting_trial / sum_of_booked_awaiting_trial) * 100).round(2) \r\n",
        "percentage_black_booked_awaiting_trial = ((black_booked_awaiting_trial / sum_of_booked_awaiting_trial) * 100).round(2) \r\n",
        "percentage_other_asian_booked_awaiting_trial = ((other_asian_booked_awaiting_trial / sum_of_booked_awaiting_trial) * 100).round(2) \r\n",
        "percentage_asian_indian_booked_awaiting_trial = ((asian_indian_booked_awaiting_trial / sum_of_booked_awaiting_trial) * 100).round(2)                                                                                                                    "
      ],
      "execution_count": 44,
      "outputs": []
    },
    {
      "cell_type": "code",
      "metadata": {
        "id": "EjWWScKQFZEJ"
      },
      "source": [
        "# Using numpy to assign values to an array for x axis in the graph\r\n",
        "races_booked_awaiting_trial = [\"White\", \"Hispanic\", \"Black\", \"Other Asian\", \"Asian Indian\"]\r\n",
        "y_pos_races_booked_awaiting_trial = np.arange(len(races_booked_awaiting_trial))"
      ],
      "execution_count": 45,
      "outputs": []
    },
    {
      "cell_type": "code",
      "metadata": {
        "colab": {
          "base_uri": "https://localhost:8080/",
          "height": 312
        },
        "id": "PQXHy9vyF7lp",
        "outputId": "2b0b063a-c2a9-414b-95b3-df4bdf7978fc"
      },
      "source": [
        "# Creating a visulization from the analysis of Booked Awating Trial Rate by Race\r\n",
        "plt.bar(range(5),(percentage_white_booked_awaiting_trial, percentage_hispanic_booked_awaiting_trial, percentage_black_booked_awaiting_trial, percentage_other_asian_booked_awaiting_trial, percentage_asian_indian_booked_awaiting_trial))\r\n",
        "plt.title(\"Booked Awaiting Trial Custody Status by Race\")\r\n",
        "plt.xlabel(\"Race\")\r\n",
        "plt.xticks(y_pos_races_booked_awaiting_trial, races_booked_awaiting_trial)\r\n",
        "plt.ylabel(\"Booked Awaiting Trial Rate\")"
      ],
      "execution_count": 47,
      "outputs": [
        {
          "output_type": "execute_result",
          "data": {
            "text/plain": [
              "Text(0, 0.5, 'Booked Awaiting Trial Rate')"
            ]
          },
          "metadata": {
            "tags": []
          },
          "execution_count": 47
        },
        {
          "output_type": "display_data",
          "data": {
            "image/png": "[encoded data removed]",
            "text/plain": [
              "<Figure size 432x288 with 1 Axes>"
            ]
          },
          "metadata": {
            "tags": [],
            "needs_background": "light"
          }
        }
      ]
    },
    {
      "cell_type": "markdown",
      "metadata": {
        "id": "mOBQ-HGkAFcL"
      },
      "source": [
        "From the graph shown above, the highest Booked - Awaiting Trial for custody status rate is White which is 45.68% and the lowest from the top 5 population of Booked - Awaiting Trial for custody status is Asian Indian which is 0.87%."
      ]
    },
    {
      "cell_type": "markdown",
      "metadata": {
        "id": "SbRNxh0BA0ZH"
      },
      "source": [
        "Summary:\r\n",
        "\r\n",
        "1. Suicide Death Rate by Gender: Male tends to have higher suicide death rate comapre to female.\r\n",
        "2. Natural Death Rate by Age: The youngest population tends to have less natural death compare to the older population.\r\n",
        "3. Accidental Death Rate by Race: From the top 5 highest frequency of accidental death rate by race, White has the highest death rate and American Indian has the lowest death rate.\r\n",
        "4. Sentenced Custody Status by Gender: Male tends to have higher sentenced sustody status rate compare to female.\r\n",
        "5. Process of Arrest Custody Status by Age: The older population tends to have less Process of Arresnt in Custody Status compare to the younger population.\r\n",
        "6. Booked Awaiting Trial Custody Status by Race: From the top 5 highest frequency of Booked Awaiting Trial Custody Status rate by race, White has the highest trial rate and Asian Indian has the lowest trial rate."
      ]
    }
  ]
}